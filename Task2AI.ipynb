{
 "cells": [
  {
   "cell_type": "code",
   "execution_count": null,
   "id": "db06af23",
   "metadata": {},
   "outputs": [],
   "source": [
    "# Taske in Basic python."
   ]
  },
  {
   "cell_type": "code",
   "execution_count": null,
   "id": "3386d49d",
   "metadata": {},
   "outputs": [],
   "source": [
    "# AI Eng:Ahmed Rifai"
   ]
  },
  {
   "cell_type": "code",
   "execution_count": 1,
   "id": "faaa2141",
   "metadata": {
    "ExecuteTime": {
     "end_time": "2022-08-07T19:02:58.269625Z",
     "start_time": "2022-08-07T19:02:58.218760Z"
    }
   },
   "outputs": [
    {
     "name": "stdout",
     "output_type": "stream",
     "text": [
      "1- 1505\n",
      "2- 1540\n",
      "3- 1575\n",
      "4- 1610\n",
      "5- 1645\n",
      "6- 1680\n",
      "7- 1715\n",
      "8- 1750\n",
      "9- 1785\n",
      "10- 1820\n",
      "11- 1855\n",
      "12- 1890\n",
      "13- 1925\n",
      "14- 1960\n",
      "15- 1995\n",
      "16- 2030\n",
      "17- 2065\n",
      "18- 2100\n",
      "19- 2135\n",
      "20- 2170\n",
      "21- 2205\n",
      "22- 2240\n",
      "23- 2275\n",
      "24- 2310\n",
      "25- 2345\n",
      "26- 2380\n",
      "27- 2415\n",
      "28- 2450\n",
      "29- 2485\n",
      "30- 2520\n",
      "31- 2555\n",
      "32- 2590\n",
      "33- 2625\n",
      "34- 2660\n",
      "35- 2695\n"
     ]
    }
   ],
   "source": [
    "#Q1\n",
    "# It prints all the numbers between 1500 and 2700 that are divisible by 7 and 5.\n",
    "counter= 0\n",
    "for x in range(1500,2701):\n",
    "    if (x%7==0)and(x%5==0):\n",
    "        counter +=1\n",
    "        print(f\"{counter}- {x}\")"
   ]
  },
  {
   "cell_type": "code",
   "execution_count": 4,
   "id": "75258d67",
   "metadata": {
    "ExecuteTime": {
     "end_time": "2022-08-07T21:32:02.619097Z",
     "start_time": "2022-08-07T21:31:58.142867Z"
    }
   },
   "outputs": [
    {
     "name": "stdout",
     "output_type": "stream",
     "text": [
      "Enter the temperature with C OR F -> 32c\n",
      "The temperature is 90F\n"
     ]
    }
   ],
   "source": [
    "#Q2\n",
    "# It takes a temperature and converts it to the other unit.\n",
    "temp = input(\"Enter the temperature with C OR F -> \")\n",
    "degree = int(temp[:-1])\n",
    "temperature = temp[-1]\n",
    "if temperature.upper() == \"C\":\n",
    "  result = int(round((9 * degree) / 5 + 32))\n",
    "  print(f\"The temperature is {result}F\")\n",
    "elif temperature.upper() == \"F\":\n",
    "  result = int(round((degree - 32) * 5 / 9))\n",
    "  print(f\"The temperature is {result}C\")\n",
    "  "
   ]
  },
  {
   "cell_type": "code",
   "execution_count": 5,
   "id": "170580b6",
   "metadata": {
    "ExecuteTime": {
     "end_time": "2022-08-07T21:32:19.598316Z",
     "start_time": "2022-08-07T21:32:19.582453Z"
    }
   },
   "outputs": [
    {
     "name": "stdout",
     "output_type": "stream",
     "text": [
      "\n",
      "* \n",
      "* * \n",
      "* * * \n",
      "* * * * \n",
      "* * * * * \n",
      "* * * * * * \n",
      "* * * * * \n",
      "* * * * \n",
      "* * * \n",
      "* * \n",
      "* \n"
     ]
    }
   ],
   "source": [
    "#Q3\n",
    "# It prints a triangle of stars.\n",
    "t = 6\n",
    "for i in range(t):\n",
    "    for j in range(i):\n",
    "        print ('* ', end=\"\")\n",
    "    print('')\n",
    "for i in range(t,0,-1):\n",
    "    for j in range(i):\n",
    "        print ('* ', end=\"\")\n",
    "    print('')"
   ]
  },
  {
   "cell_type": "code",
   "execution_count": 7,
   "id": "0ec601c5",
   "metadata": {
    "ExecuteTime": {
     "end_time": "2022-08-07T21:33:02.767580Z",
     "start_time": "2022-08-07T21:33:00.334667Z"
    }
   },
   "outputs": [
    {
     "name": "stdout",
     "output_type": "stream",
     "text": [
      "Enter a Word -> word\n",
      "drow"
     ]
    }
   ],
   "source": [
    "#Q4\n",
    "# It takes a word and prints it in reverse order.\n",
    "word=input(\"Enter a Word -> \")\n",
    "for i in range(len(word) - 1, -1, -1):\n",
    "  print(word[i], end=\"\")"
   ]
  },
  {
   "cell_type": "code",
   "execution_count": 8,
   "id": "0d90b2da",
   "metadata": {
    "ExecuteTime": {
     "end_time": "2022-08-07T21:33:17.766482Z",
     "start_time": "2022-08-07T21:33:17.756509Z"
    }
   },
   "outputs": [
    {
     "name": "stdout",
     "output_type": "stream",
     "text": [
      "[500, 60, 30]\n"
     ]
    }
   ],
   "source": [
    "#Q5\n",
    "# A function that takes a list of numbers and returns the biggest 3 numbers in the list.\n",
    "def maxthree(nums):\n",
    "    nums.sort(reverse=True)\n",
    "    return nums[0:3]\n",
    "\n",
    "nums = [500,10,15,30,60,-100]\n",
    "print(maxthree(nums))"
   ]
  },
  {
   "cell_type": "code",
   "execution_count": 10,
   "id": "fedd3b2b",
   "metadata": {
    "ExecuteTime": {
     "end_time": "2022-08-07T21:33:56.339901Z",
     "start_time": "2022-08-07T21:33:56.318475Z"
    }
   },
   "outputs": [
    {
     "name": "stdout",
     "output_type": "stream",
     "text": [
      "515\n"
     ]
    }
   ],
   "source": [
    "#Q6\n",
    "# A function that takes a list of numbers and returns the sum of all the numbers in the list.\n",
    "def sumAll(nums):\n",
    "    result = 0\n",
    "    for i in nums:\n",
    "        result+=i\n",
    "    return result\n",
    "\n",
    "nums = [500,10,15,30,60,-100]\n",
    "print(sumAll(nums))"
   ]
  },
  {
   "cell_type": "code",
   "execution_count": 11,
   "id": "b495aa4a",
   "metadata": {
    "ExecuteTime": {
     "end_time": "2022-08-07T21:34:20.656797Z",
     "start_time": "2022-08-07T21:34:20.645805Z"
    }
   },
   "outputs": [
    {
     "name": "stdout",
     "output_type": "stream",
     "text": [
      "0\n",
      "1\n",
      "2\n",
      "4\n",
      "5\n"
     ]
    }
   ],
   "source": [
    "#Q7\n",
    "# Printing all the numbers from 0 to 7 except 3 and 6\n",
    "for i in range(0,7):\n",
    "    if i == 3 or i == 6:\n",
    "        continue\n",
    "    print(i)\n"
   ]
  },
  {
   "cell_type": "code",
   "execution_count": 14,
   "id": "892c57dd",
   "metadata": {
    "ExecuteTime": {
     "end_time": "2022-08-07T21:35:54.911002Z",
     "start_time": "2022-08-07T21:35:54.895378Z"
    }
   },
   "outputs": [
    {
     "name": "stdout",
     "output_type": "stream",
     "text": [
      "24\n"
     ]
    }
   ],
   "source": [
    "#Q8\n",
    "\"\"\"\n",
    "    It takes a number and multiplies it by the factorial of the number minus one\n",
    "    \n",
    "    :param num: 4\n",
    "    :return: 24\n",
    "\"\"\"\n",
    "\n",
    "def factorial(num):\n",
    "    if num == 0:\n",
    "        return 1\n",
    "    else:\n",
    "        return num * factorial(num-1)\n",
    "print(factorial(4))"
   ]
  },
  {
   "cell_type": "code",
   "execution_count": 15,
   "id": "d740965f",
   "metadata": {
    "ExecuteTime": {
     "end_time": "2022-08-07T21:41:25.141931Z",
     "start_time": "2022-08-07T21:41:25.131921Z"
    }
   },
   "outputs": [
    {
     "name": "stdout",
     "output_type": "stream",
     "text": [
      "{1, 2, 3, 4, 5}\n"
     ]
    }
   ],
   "source": [
    "# It takes a list and returns a set of the list.\n",
    "#Q9\n",
    "def list(nums):\n",
    "    nums = set(nums)\n",
    "    return nums\n",
    "print(list([1,2,3,3,3,3,4,5]))\n"
   ]
  },
  {
   "cell_type": "code",
   "execution_count": 16,
   "id": "2193c596",
   "metadata": {
    "ExecuteTime": {
     "end_time": "2022-08-07T21:42:25.626938Z",
     "start_time": "2022-08-07T21:42:25.611281Z"
    }
   },
   "outputs": [
    {
     "name": "stdout",
     "output_type": "stream",
     "text": [
      "30\n",
      "25\n"
     ]
    }
   ],
   "source": [
    "# A lambda function.\n",
    "#Q10\n",
    "fun1 = lambda given : given + 15\n",
    "print(fun1(15))\n",
    "\n",
    "fun2 = lambda num1, num2 : num1 * num2\n",
    "print(fun2(5, 5))\n"
   ]
  }
 ],
 "metadata": {
  "kernelspec": {
   "display_name": "Python 3 (ipykernel)",
   "language": "python",
   "name": "python3"
  },
  "language_info": {
   "codemirror_mode": {
    "name": "ipython",
    "version": 3
   },
   "file_extension": ".py",
   "mimetype": "text/x-python",
   "name": "python",
   "nbconvert_exporter": "python",
   "pygments_lexer": "ipython3",
   "version": "3.9.12"
  }
 },
 "nbformat": 4,
 "nbformat_minor": 5
}
